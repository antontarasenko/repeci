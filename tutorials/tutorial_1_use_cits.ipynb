{
 "metadata": {
  "name": "",
  "signature": "sha256:f8e6663278b26ab043afcc3f7f66a370f89432ee69155a2ba44a1dcb8da34726"
 },
 "nbformat": 3,
 "nbformat_minor": 0,
 "worksheets": [
  {
   "cells": [
    {
     "cell_type": "heading",
     "level": 1,
     "metadata": {},
     "source": [
      "RePEci Tutorial: Using the Citations Graph"
     ]
    },
    {
     "cell_type": "markdown",
     "metadata": {},
     "source": [
      "`README.md` tells what RePEci is about. This tutorial shows how to use the graph of citations generated from `iscited.txt` file that contains citations for economic papers.\n",
      "\n",
      "Starting is easy:"
     ]
    },
    {
     "cell_type": "code",
     "collapsed": false,
     "input": [
      "%pylab inline\n",
      "\n",
      "from repeci import core\n",
      "\n",
      "db = core.DB()\n",
      "G = db.ref_graph()\n",
      "rm = db.ref_metrics(G)"
     ],
     "language": "python",
     "metadata": {},
     "outputs": [
      {
       "output_type": "stream",
       "stream": "stdout",
       "text": [
        "Populating the interactive namespace from numpy and matplotlib\n",
        "Graph building is completed in 1 seconds"
       ]
      },
      {
       "output_type": "stream",
       "stream": "stdout",
       "text": [
        "\n",
        "Metrics is computed in 6 seconds"
       ]
      },
      {
       "output_type": "stream",
       "stream": "stdout",
       "text": [
        "\n"
       ]
      }
     ],
     "prompt_number": 2
    },
    {
     "cell_type": "markdown",
     "metadata": {},
     "source": [
      "This code loads the data from previously created `repeci.db`. Then it creates graph `G` of references and computes graph statistics `rm` for each paper.\n",
      "\n",
      "Dataframe `rm` is a simple `pandas.DataFrame`. For example, to see top 5 papers by their PageRank:"
     ]
    },
    {
     "cell_type": "code",
     "collapsed": false,
     "input": [
      "rm.sort('pr', ascending=False)[:][:5]"
     ],
     "language": "python",
     "metadata": {},
     "outputs": [
      {
       "html": [
        "<div style=\"max-height:1000px;max-width:1500px;overflow:auto;\">\n",
        "<table border=\"1\" class=\"dataframe\">\n",
        "  <thead>\n",
        "    <tr style=\"text-align: right;\">\n",
        "      <th></th>\n",
        "      <th>odc</th>\n",
        "      <th>idc</th>\n",
        "      <th>pr</th>\n",
        "      <th>cc</th>\n",
        "    </tr>\n",
        "  </thead>\n",
        "  <tbody>\n",
        "    <tr>\n",
        "      <th>46685</th>\n",
        "      <td> 0</td>\n",
        "      <td> 0.028368</td>\n",
        "      <td> 0.011454</td>\n",
        "      <td> 0</td>\n",
        "    </tr>\n",
        "    <tr>\n",
        "      <th>65723</th>\n",
        "      <td> 0</td>\n",
        "      <td> 0.025613</td>\n",
        "      <td> 0.010810</td>\n",
        "      <td> 0</td>\n",
        "    </tr>\n",
        "    <tr>\n",
        "      <th>34201</th>\n",
        "      <td> 0</td>\n",
        "      <td> 0.029654</td>\n",
        "      <td> 0.010533</td>\n",
        "      <td> 0</td>\n",
        "    </tr>\n",
        "    <tr>\n",
        "      <th>58444</th>\n",
        "      <td> 0</td>\n",
        "      <td> 0.017018</td>\n",
        "      <td> 0.006022</td>\n",
        "      <td> 0</td>\n",
        "    </tr>\n",
        "    <tr>\n",
        "      <th>42161</th>\n",
        "      <td> 0</td>\n",
        "      <td> 0.012373</td>\n",
        "      <td> 0.005188</td>\n",
        "      <td> 0</td>\n",
        "    </tr>\n",
        "  </tbody>\n",
        "</table>\n",
        "</div>"
       ],
       "metadata": {},
       "output_type": "pyout",
       "prompt_number": 3,
       "text": [
        "       odc       idc        pr  cc\n",
        "46685    0  0.028368  0.011454   0\n",
        "65723    0  0.025613  0.010810   0\n",
        "34201    0  0.029654  0.010533   0\n",
        "58444    0  0.017018  0.006022   0\n",
        "42161    0  0.012373  0.005188   0"
       ]
      }
     ],
     "prompt_number": 3
    },
    {
     "cell_type": "markdown",
     "metadata": {},
     "source": [
      "Or the most cited papers:"
     ]
    },
    {
     "cell_type": "code",
     "collapsed": false,
     "input": [
      "rm.sort('idc', ascending=False)[:][:5]"
     ],
     "language": "python",
     "metadata": {},
     "outputs": [
      {
       "html": [
        "<div style=\"max-height:1000px;max-width:1500px;overflow:auto;\">\n",
        "<table border=\"1\" class=\"dataframe\">\n",
        "  <thead>\n",
        "    <tr style=\"text-align: right;\">\n",
        "      <th></th>\n",
        "      <th>odc</th>\n",
        "      <th>idc</th>\n",
        "      <th>pr</th>\n",
        "      <th>cc</th>\n",
        "    </tr>\n",
        "  </thead>\n",
        "  <tbody>\n",
        "    <tr>\n",
        "      <th>34201</th>\n",
        "      <td> 0</td>\n",
        "      <td> 0.029654</td>\n",
        "      <td> 0.010533</td>\n",
        "      <td> 0</td>\n",
        "    </tr>\n",
        "    <tr>\n",
        "      <th>46685</th>\n",
        "      <td> 0</td>\n",
        "      <td> 0.028368</td>\n",
        "      <td> 0.011454</td>\n",
        "      <td> 0</td>\n",
        "    </tr>\n",
        "    <tr>\n",
        "      <th>65723</th>\n",
        "      <td> 0</td>\n",
        "      <td> 0.025613</td>\n",
        "      <td> 0.010810</td>\n",
        "      <td> 0</td>\n",
        "    </tr>\n",
        "    <tr>\n",
        "      <th>58444</th>\n",
        "      <td> 0</td>\n",
        "      <td> 0.017018</td>\n",
        "      <td> 0.006022</td>\n",
        "      <td> 0</td>\n",
        "    </tr>\n",
        "    <tr>\n",
        "      <th>42161</th>\n",
        "      <td> 0</td>\n",
        "      <td> 0.012373</td>\n",
        "      <td> 0.005188</td>\n",
        "      <td> 0</td>\n",
        "    </tr>\n",
        "  </tbody>\n",
        "</table>\n",
        "</div>"
       ],
       "metadata": {},
       "output_type": "pyout",
       "prompt_number": 4,
       "text": [
        "       odc       idc        pr  cc\n",
        "34201    0  0.029654  0.010533   0\n",
        "46685    0  0.028368  0.011454   0\n",
        "65723    0  0.025613  0.010810   0\n",
        "58444    0  0.017018  0.006022   0\n",
        "42161    0  0.012373  0.005188   0"
       ]
      }
     ],
     "prompt_number": 4
    },
    {
     "cell_type": "markdown",
     "metadata": {},
     "source": [
      "Where `idc` stands for \"in-degree centrality\". Edges in `G` are directed from a citing paper to a cited paper. In-degree centrality relates to the number of citations, while out-degree centrality relates to the number of references each paper has.\n",
      "\n",
      "PageRank and closeness centrality have less straightforward interpretations. It's better to understand the algorithms behind these metrics before saying anything about their values."
     ]
    }
   ],
   "metadata": {}
  }
 ]
}